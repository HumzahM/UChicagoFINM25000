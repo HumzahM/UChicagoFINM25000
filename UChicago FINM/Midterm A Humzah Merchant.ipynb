{
 "cells": [
  {
   "cell_type": "markdown",
   "id": "5ef6cdbe",
   "metadata": {},
   "source": [
    "Only source used was my own HWs\n",
    "\n",
    "1.1 "
   ]
  },
  {
   "cell_type": "code",
   "execution_count": 157,
   "id": "217b53a8",
   "metadata": {
    "scrolled": true
   },
   "outputs": [
    {
     "name": "stdout",
     "output_type": "stream",
     "text": [
      "NG1 Mean Return: 0.144 Volitality: 0.5381 Sharpe Ratio: 0.2676\n",
      "KC1 Mean Return: 0.045 Volitality: 0.3209 Sharpe Ratio: 0.1401\n",
      "CC1 Mean Return: 0.0848 Volitality: 0.3246 Sharpe Ratio: 0.2612\n",
      "LB1 Mean Return: 0.1309 Volitality: 0.4008 Sharpe Ratio: 0.3267\n",
      "CT1 Mean Return: 0.0572 Volitality: 0.3071 Sharpe Ratio: 0.1864\n",
      "SB1 Mean Return: 0.0913 Volitality: 0.3467 Sharpe Ratio: 0.2635\n",
      "LC1 Mean Return: 0.0296 Volitality: 0.1876 Sharpe Ratio: 0.1576\n",
      "W1 Mean Return: 0.0761 Volitality: 0.3116 Sharpe Ratio: 0.2441\n",
      "S1 Mean Return: 0.0713 Volitality: 0.2651 Sharpe Ratio: 0.2688\n",
      "C1 Mean Return: 0.0861 Volitality: 0.2986 Sharpe Ratio: 0.2882\n",
      "GC1 Mean Return: 0.0825 Volitality: 0.1645 Sharpe Ratio: 0.5017\n",
      "SI1 Mean Return: 0.1044 Volitality: 0.3075 Sharpe Ratio: 0.3394\n",
      "HG1 Mean Return: 0.094 Volitality: 0.2602 Sharpe Ratio: 0.3614\n",
      "PA1 Mean Return: 0.1293 Volitality: 0.3516 Sharpe Ratio: 0.3678\n"
     ]
    }
   ],
   "source": [
    "import numpy as np \n",
    "import pandas as pd \n",
    "import statistics as stats \n",
    "import math\n",
    "import matplotlib.pyplot as plt\n",
    "from sklearn.linear_model import LinearRegression\n",
    "\n",
    "commodities_data = pd.read_excel(\"midterm_A_2023_data.xlsx\", \"commodities (excess returns)\", usecols=\"B:O\")\n",
    "commodities_data = commodities_data.to_numpy()\n",
    "commodities_data = np.transpose(commodities_data)\n",
    "commodities_names = [\"NG1\", \"KC1\", \"CC1\", \"LB1\", \"CT1\", \"SB1\", \"LC1\", \"W1\", \"S1\", \"C1\", \"GC1\", \"SI1\", \"HG1\", \"PA1\"]\n",
    "commodities_dates = pd.read_excel(\"midterm_A_2023_data.xlsx\", \"commodities (excess returns)\", usecols=\"A\", dtype=\"string\")\n",
    "commodities_dates = commodities_dates.to_numpy()\n",
    "commodities_dates = np.transpose(commodities_dates)[0]\n",
    "\n",
    "counter = 0\n",
    "commodities_returns = np.empty(14)\n",
    "commodities_volatilities = np.empty(14)\n",
    "for column in commodities_data:\n",
    "    mean_return = 12*stats.mean(column)\n",
    "    volatility = math.sqrt(12)*stats.stdev(column)\n",
    "    sharpe_ratio = mean_return / volatility\n",
    "    commodities_returns[counter] = mean_return\n",
    "    commodities_volatilities[counter] = volatility\n",
    "    print(commodities_names[counter] + \" Mean Return: \" + str(round(mean_return,4)) + \" Volitality: \" + str(round(volatility,4)) + \" Sharpe Ratio: \" + str(round(sharpe_ratio, 4)))\n",
    "    \n",
    "    counter += 1\n"
   ]
  },
  {
   "cell_type": "markdown",
   "id": "cb5e179b",
   "metadata": {},
   "source": [
    "1.2 "
   ]
  },
  {
   "cell_type": "code",
   "execution_count": 198,
   "id": "ee61cc52",
   "metadata": {},
   "outputs": [
    {
     "name": "stdout",
     "output_type": "stream",
     "text": [
      "NG1 VaR: -0.359 CVaR: -0.3875\n",
      "Max drawdown: 90.1517%\n",
      "Start: 2005-09-30 00:00:00 5.1298\n",
      "End: 2020-03-31 00:00:00 0.5052\n",
      "Never Recovered\n",
      " \n",
      "KC1 VaR: -0.1781 CVaR: -0.2153\n",
      "Max drawdown: 70.4378%\n",
      "Start: 2011-04-30 00:00:00 1.8019\n",
      "End: 2019-04-30 00:00:00 0.5327\n",
      "Never Recovered\n",
      " \n",
      "CC1 VaR: -0.1981 CVaR: -0.2314\n",
      "Max drawdown: 51.1534%\n",
      "Start: 2011-02-28 00:00:00 3.4217\n",
      "End: 2017-04-30 00:00:00 1.6714\n",
      "Never Recovered\n",
      " \n",
      "LB1 VaR: -0.2393 CVaR: -0.2952\n",
      "Max drawdown: 71.1663%\n",
      "Start: 2004-08-31 00:00:00 1.1086\n",
      "End: 2009-02-28 00:00:00 0.3196\n",
      "Recovery: 2018-04-30 00:00:00 1.2337\n",
      " \n",
      "CT1 VaR: -0.2069 CVaR: -0.2632\n",
      "Max drawdown: 76.397%\n",
      "Start: 2011-02-28 00:00:00 3.0711\n",
      "End: 2020-03-31 00:00:00 0.7249\n",
      "Never Recovered\n",
      " \n",
      "SB1 VaR: -0.2015 CVaR: -0.2632\n",
      "Max drawdown: 71.0916%\n",
      "Start: 2011-01-31 00:00:00 4.2218\n",
      "End: 2020-04-30 00:00:00 1.2204\n",
      "Never Recovered\n",
      " \n",
      "LC1 VaR: -0.1272 CVaR: -0.1662\n",
      "Max drawdown: 49.473%\n",
      "Start: 2014-11-30 00:00:00 1.8752\n",
      "End: 2020-04-30 00:00:00 0.9475\n",
      "Never Recovered\n",
      " \n",
      "W1 VaR: -0.1922 CVaR: -0.2208\n",
      "Max drawdown: 66.9502%\n",
      "Start: 2008-02-29 00:00:00 3.3466\n",
      "End: 2016-08-31 00:00:00 1.1061\n",
      "Never Recovered\n",
      " \n",
      "S1 VaR: -0.2141 CVaR: -0.2539\n",
      "Max drawdown: 54.8402%\n",
      "Start: 2012-08-31 00:00:00 2.9097\n",
      "End: 2020-05-31 00:00:00 1.314\n",
      "Never Recovered\n",
      " \n",
      "C1 VaR: -0.1961 CVaR: -0.2287\n",
      "Max drawdown: 63.3885%\n",
      "Start: 2012-07-31 00:00:00 3.0048\n",
      "End: 2020-04-30 00:00:00 1.1001\n",
      "Never Recovered\n",
      " \n",
      "GC1 VaR: -0.1075 CVaR: -0.1382\n",
      "Max drawdown: 38.1073%\n",
      "Start: 2011-08-31 00:00:00 4.8133\n",
      "End: 2015-12-31 00:00:00 2.9791\n",
      "Recovery: 2020-07-31 00:00:00 5.0174\n",
      " \n",
      "SI1 VaR: -0.2216 CVaR: -0.25\n",
      "Max drawdown: 72.0479%\n",
      "Start: 2011-04-30 00:00:00 6.831\n",
      "End: 2020-03-31 00:00:00 1.9094\n",
      "Never Recovered\n",
      " \n",
      "HG1 VaR: -0.1488 CVaR: -0.2563\n",
      "Max drawdown: 65.7563%\n",
      "Start: 2006-05-31 00:00:00 3.6456\n",
      "End: 2008-12-31 00:00:00 1.2484\n",
      "Recovery: 2010-12-31 00:00:00 3.9658\n",
      " \n",
      "PA1 VaR: -0.2251 CVaR: -0.2658\n",
      "Max drawdown: 85.716%\n",
      "Start: 2001-01-31 00:00:00 2.2123\n",
      "End: 2008-12-31 00:00:00 0.316\n",
      "Recovery: 2019-02-28 00:00:00 2.5096\n",
      " \n"
     ]
    }
   ],
   "source": [
    "counter = 0\n",
    "for column in commodities_data:\n",
    "    VaR = np.quantile(column, 0.01)\n",
    "    CVaR = stats.mean(column[column < VaR])\n",
    "    print(commodities_names[counter] + \" VaR: \" + str(round(VaR,4)) + \" CVaR: \" + str(round(CVaR, 4)))\n",
    "    start = -1; \n",
    "    end = -1;\n",
    "    recovery = -1; \n",
    "    maxDrawdown = 0\n",
    "    cumprod = (1+column).cumprod()\n",
    "    i = 0\n",
    "    j = 0\n",
    "    k = 0\n",
    "    recovery = -1\n",
    "    for i in range(258):\n",
    "        for j in range(258 - i):\n",
    "            if(((cumprod[i] - cumprod[j + i]) / cumprod[i]) > maxDrawdown):\n",
    "                maxDrawdown = ((cumprod[i] - cumprod[j + i]) / cumprod[i])\n",
    "                start = i\n",
    "                end = j + i\n",
    "    for k in range(258 - end):\n",
    "        if(cumprod[start] < cumprod[end + k]):\n",
    "            recovery = end + k\n",
    "            break\n",
    "    print(\"Max drawdown: \" + str(round(100*maxDrawdown,4)) + \"%\")\n",
    "    print(\"Start: \" + commodities_dates[start] + \" \" + str(round(cumprod[start],4)))\n",
    "    print(\"End: \" + commodities_dates[end] + \" \" + str(round(cumprod[end],4)))\n",
    "    if(recovery == -1):\n",
    "        print(\"Never Recovered\")\n",
    "    else:\n",
    "        print(\"Recovery: \" + commodities_dates[recovery] + \" \" + str(round(cumprod[recovery],4)))\n",
    "    print(\" \")\n",
    "    counter += 1"
   ]
  },
  {
   "cell_type": "markdown",
   "id": "fb06d75e",
   "metadata": {},
   "source": [
    "1.3 - The single most important statistic is the Sharpe Ratio, the ratio of how much returns you can get for an asset relative to how risky it is. GC1 has the highest Sharpe Ratio and from there an investor could use the risk free rate (either leveraging for higher return or investing for lower risk) to acheive the target return or max risk."
   ]
  },
  {
   "cell_type": "markdown",
   "id": "c549f852",
   "metadata": {},
   "source": [
    "1.4 - If we have a large portfolio then individual volitality matters less and we want to focus on covariance with other assets. Ideally we would want an asset that has a minimmum Beta to the other assets in the portfolio or an asset that has the least covariance with the other assets. If that is not possible the least Beta to the overall market/SPY is an option. "
   ]
  },
  {
   "cell_type": "markdown",
   "id": "de996252",
   "metadata": {},
   "source": [
    "1.5"
   ]
  },
  {
   "cell_type": "code",
   "execution_count": 159,
   "id": "42ec043a",
   "metadata": {},
   "outputs": [
    {
     "name": "stdout",
     "output_type": "stream",
     "text": [
      "Alpha: 0.07743\n",
      "Beta: 1.13338\n",
      "IR: 0.22331\n"
     ]
    }
   ],
   "source": [
    "model_sb1_c1 = LinearRegression().fit(commodities_data[5].reshape(-1,1),commodities_data[9].reshape(-1,1))\n",
    "print(\"Alpha: \" + str(round(model_sb1_c1.intercept_[0]*12,5)))\n",
    "print(\"Beta: \" + str(round(model_sb1_c1.coef_[0][0]*12,5)))\n",
    "#check this \n",
    "IR = (model_sb1_c1.intercept_[0]*12) / commodities_volatilities[5]\n",
    "print(\"IR: \" + str(round(IR,5)))"
   ]
  },
  {
   "cell_type": "markdown",
   "id": "150ce43b",
   "metadata": {},
   "source": [
    "1.6 - The hedge ratio would be equal to the beta = 1.133"
   ]
  },
  {
   "cell_type": "markdown",
   "id": "c6762f3f",
   "metadata": {},
   "source": [
    "2.1"
   ]
  },
  {
   "cell_type": "code",
   "execution_count": 216,
   "id": "05689311",
   "metadata": {},
   "outputs": [
    {
     "name": "stdout",
     "output_type": "stream",
     "text": [
      "NG1 Weight: 5.7 %\n",
      "KC1 Weight: -7.3 %\n",
      "CC1 Weight: 7.4 %\n",
      "LB1 Weight: 8.7 %\n",
      "CT1 Weight: -1.0 %\n",
      "SB1 Weight: 6.4 %\n",
      "LC1 Weight: 12.9 %\n",
      "W1 Weight: -1.0 %\n",
      "S1 Weight: 2.7 %\n",
      "C1 Weight: 8.5 %\n",
      "GC1 Weight: 60.3 %\n",
      "SI1 Weight: -18.1 %\n",
      "HG1 Weight: 7.5 %\n",
      "PA1 Weight: 7.3 %\n",
      "Mean of portfolio: 1.0501581237245885\n",
      "Volitality: 0.5915940157566119\n",
      "Sharpe Ratio: 1.775133107763948\n"
     ]
    }
   ],
   "source": [
    "def tangency_portfolio(return_vector, cov_mat):\n",
    "    inverse_covmat = np.linalg.inv(cov_mat)\n",
    "    one_vector = (np.ones((11,1), dtype = int))\n",
    "    sigmaNeg1Mu = inverse_covmat @ return_vector\n",
    "    scalar = inverse_covmat @ return_vector\n",
    "    scalar = np.sum(scalar)\n",
    "    return sigmaNeg1Mu / scalar\n",
    "\n",
    "tangent_weights = tangency_portfolio(commodities_returns, np.cov(commodities_data))\n",
    "for i in range(14):\n",
    "    print(commodities_names[i] + \" Weight: \" + str(round(100*tangent_weights[i],1)), \"%\")\n",
    "\n",
    "tangent_returns = tangent_weights*commodities_returns;\n",
    "mean = 12*np.dot(np.transpose(commodities_returns), tangent_weights)\n",
    "print(\"Mean of portfolio: \" + str(mean))\n",
    "#check this is corr or cov \n",
    "vol = np.dot(np.dot(tangent_weights.transpose(), np.corrcoef(commodities_data)), tangent_weights) ** 0.5\n",
    "print(\"Volitality: \" + str(vol))\n",
    "SR = mean / volatality\n",
    "print(\"Sharpe Ratio: \" + str(SR))"
   ]
  },
  {
   "cell_type": "markdown",
   "id": "061e5920",
   "metadata": {},
   "source": [
    "2.2"
   ]
  },
  {
   "cell_type": "code",
   "execution_count": 217,
   "id": "96d03adc",
   "metadata": {},
   "outputs": [
    {
     "name": "stdout",
     "output_type": "stream",
     "text": [
      "NG1 Weight: 0.041 %\n",
      "KC1 Weight: -0.052 %\n",
      "CC1 Weight: 0.0532 %\n",
      "LB1 Weight: 0.0619 %\n",
      "CT1 Weight: -0.0068 %\n",
      "SB1 Weight: 0.0454 %\n",
      "LC1 Weight: 0.0921 %\n",
      "W1 Weight: -0.0075 %\n",
      "S1 Weight: 0.0195 %\n",
      "C1 Weight: 0.0606 %\n",
      "GC1 Weight: 0.4307 %\n",
      "SI1 Weight: -0.1295 %\n",
      "HG1 Weight: 0.0532 %\n",
      "PA1 Weight: 0.0523 %\n"
     ]
    }
   ],
   "source": [
    "target_mean = 0.0075\n",
    "scale = target_mean/mean\n",
    "tangent_weights_scaled = tangent_weights*scale\n",
    "for i in range(14):\n",
    "    print(commodities_names[i] + \" Weight: \" + str(round(100*tangent_weights_scaled[i],4)), \"%\")\n",
    "#numbers seem low?"
   ]
  },
  {
   "cell_type": "markdown",
   "id": "c5059b2e",
   "metadata": {},
   "source": [
    "2.3 The tangency portfolio somewhat relates securities to their Sharpe Ratios but it is mostly focused on the assets with the lowest covariance. Therefore, some assets such as HG1 which has the second highest Sharpe Ratio has a small weight. However, GC1 has the best sharpe ratio and is the most heavy weighted asset. \n",
    "\n",
    "2.4"
   ]
  },
  {
   "cell_type": "code",
   "execution_count": 222,
   "id": "f21c60f2",
   "metadata": {},
   "outputs": [
    {
     "name": "stdout",
     "output_type": "stream",
     "text": [
      "Mean of portfolio: 0.0075\n",
      "Volitality: 0.0042\n",
      "Sharpe Ratio: 1.7751\n"
     ]
    }
   ],
   "source": [
    "print(\"Mean of portfolio: \" + str(round(mean*scale,4)))\n",
    "print(\"Volitality: \" + str(round(vol*scale,4)))\n",
    "print(\"Sharpe Ratio: \" + str(round(mean/vol,4)))"
   ]
  },
  {
   "cell_type": "markdown",
   "id": "9a6533a2",
   "metadata": {},
   "source": [
    "2.5 - Harvard does a multi layer mean-variance optimization. Instead of doing 5000 options at once they take a mean-variance of US equities (probably subdivided itself), mean-variance of commodities, etc and then take those stats and rebuild it. As a result they have many layers of protection built in and one amazing stock with a high SR and low covariance is not going to be a lot of their portfolio. In addition, Harvard sets realistic limit to the position of their asset classes (e.g. 5-7.5%) so that it is not too large or too small (in the case they can't dump all of their current position.) "
   ]
  },
  {
   "cell_type": "markdown",
   "id": "5fd11fea",
   "metadata": {},
   "source": [
    "2.6 - Mean-Variance optimization relies on inverting the covariance matrix, which means that certain small values blow up very large. As a result, some very small changes to covariance can result in a completely different final result. The solutions, as Harvard uses them, is to do a multi-layer mean variance and to put position limits on assets."
   ]
  },
  {
   "cell_type": "markdown",
   "id": "1566e204",
   "metadata": {},
   "source": [
    "3.1"
   ]
  },
  {
   "cell_type": "code",
   "execution_count": 221,
   "id": "42e72ec2",
   "metadata": {},
   "outputs": [
    {
     "name": "stdout",
     "output_type": "stream",
     "text": [
      "NG1 Alpha: 0.11195\n",
      "   MKT BETA 0.354\n",
      "   UMD BETA 0.381\n",
      "   R^2 0.0173\n",
      "\n",
      "KC1 Alpha: 0.0232\n",
      "   MKT BETA 0.315\n",
      "   UMD BETA -0.027\n",
      "   R^2 0.0259\n",
      "\n",
      "CC1 Alpha: 0.07079\n",
      "   MKT BETA 0.207\n",
      "   UMD BETA -0.036\n",
      "   R^2 0.012\n",
      "\n",
      "LB1 Alpha: 0.06448\n",
      "   MKT BETA 0.942\n",
      "   UMD BETA -0.005\n",
      "   R^2 0.1368\n",
      "\n",
      "CT1 Alpha: 0.02492\n",
      "   MKT BETA 0.504\n",
      "   UMD BETA -0.179\n",
      "   R^2 0.099\n",
      "\n",
      "SB1 Alpha: 0.09313\n",
      "   MKT BETA 0.058\n",
      "   UMD BETA -0.319\n",
      "   R^2 0.0327\n",
      "\n",
      "LC1 Alpha: 0.01542\n",
      "   MKT BETA 0.183\n",
      "   UMD BETA 0.066\n",
      "   R^2 0.02\n",
      "\n",
      "W1 Alpha: 0.05453\n",
      "   MKT BETA 0.299\n",
      "   UMD BETA 0.022\n",
      "   R^2 0.0213\n",
      "\n",
      "S1 Alpha: 0.04254\n",
      "   MKT BETA 0.399\n",
      "   UMD BETA 0.027\n",
      "   R^2 0.0529\n",
      "\n",
      "C1 Alpha: 0.06087\n",
      "   MKT BETA 0.34\n",
      "   UMD BETA 0.062\n",
      "   R^2 0.0282\n",
      "\n",
      "GC1 Alpha: 0.07049\n",
      "   MKT BETA 0.132\n",
      "   UMD BETA 0.149\n",
      "   R^2 0.0274\n",
      "\n",
      "SI1 Alpha: 0.06555\n",
      "   MKT BETA 0.512\n",
      "   UMD BETA 0.144\n",
      "   R^2 0.0584\n",
      "\n",
      "HG1 Alpha: 0.0478\n",
      "   MKT BETA 0.691\n",
      "   UMD BETA -0.139\n",
      "   R^2 0.2147\n",
      "\n",
      "PA1 Alpha: 0.07919\n",
      "   MKT BETA 0.665\n",
      "   UMD BETA 0.173\n",
      "   R^2 0.0756\n",
      "\n"
     ]
    }
   ],
   "source": [
    "factor_data = pd.read_excel(\"midterm_A_2023_data.xlsx\", \"factors (excess returns)\", usecols=\"B:C\")\n",
    "factor_data = factor_data.to_numpy()\n",
    "factor_data = np.transpose(factor_data)\n",
    "factor_names = [\"MKT\", \"UMD\"]\n",
    "\n",
    "counter = 0\n",
    "for column in commodities_data:\n",
    "    model = LinearRegression().fit(factor_data.transpose(),column.reshape(-1,1))\n",
    "    print(commodities_names[counter] + \" Alpha: \" + str(round(model.intercept_[0]*12,5)))\n",
    "    Alpha = model.intercept_[0]\n",
    "    counter2 = 0\n",
    "    for coef in model.coef_[0]:\n",
    "        print(\"   \" + factor_names[counter2] + \" BETA \" + str(round(coef,3)))\n",
    "        counter2 += 1\n",
    "    print(\"   R^2 \" + str(round(model.score(factor_data.transpose(),column.reshape(-1,1)),4)))\n",
    "    print(\"\")\n",
    "    counter += 1"
   ]
  },
  {
   "cell_type": "markdown",
   "id": "9ff8f6c0",
   "metadata": {},
   "source": [
    "3.2 - If the pricing model worked perfectly all of the Alphas would be 0\n",
    "\n",
    "3.3 - HG1 has the highest R^2 meaning that it fits the model the closest"
   ]
  },
  {
   "cell_type": "code",
   "execution_count": 164,
   "id": "a167b4cc",
   "metadata": {},
   "outputs": [
    {
     "name": "stdout",
     "output_type": "stream",
     "text": [
      "MKT Mean Return: 0.0706\n",
      "UMD Mean Return: 0.0184\n"
     ]
    }
   ],
   "source": [
    "counter = 0\n",
    "for column in factor_data:\n",
    "    mean_return = 12*stats.mean(column)\n",
    "    print(factor_names[counter] + \" Mean Return: \" + str(round(mean_return,4)))\n",
    "    counter += 1"
   ]
  },
  {
   "cell_type": "markdown",
   "id": "31fbb1a1",
   "metadata": {},
   "source": [
    "3.4 - we can see that MKT has a much higher risk premuim then UMD. \n",
    "\n",
    "3.5 - If the CAPM was perfectly true then all Treynor Ratios would be the equity risk premuim, all Information Ratios would be 0 (no alpha) and r^2 would be unaffected."
   ]
  },
  {
   "cell_type": "markdown",
   "id": "9f9c50ec",
   "metadata": {},
   "source": [
    "4.1"
   ]
  },
  {
   "cell_type": "code",
   "execution_count": 200,
   "id": "fb204b19",
   "metadata": {},
   "outputs": [
    {
     "name": "stdout",
     "output_type": "stream",
     "text": [
      "Alpha: 0.000945\n",
      "TBill Rate Beta: 0.6645\n",
      "TBill Change Beta: 0.1733\n",
      "R^2: 0.012666619503733823\n"
     ]
    }
   ],
   "source": [
    "forecasting_data = pd.read_excel(\"midterm_A_2023_data.xlsx\", \"forecasting (weekly)\", usecols=\"B:D\")\n",
    "forecasting_data = forecasting_data.to_numpy()\n",
    "forecasting_model = LinearRegression().fit(forecasting_data[0:,1:3],forecasting_data[0:,0:1])\n",
    "Alpha = forecasting_model.intercept_[0]\n",
    "Beta = model.coef_[0]\n",
    "print(\"Alpha: \" + str(round(Alpha,6)))\n",
    "print(\"TBill Rate Beta: \" + str(round(Beta[0],4)))\n",
    "print(\"TBill Change Beta: \" + str(round(Beta[1],4)))\n",
    "print(\"R^2: \" + str(forecasting_model.score(forecasting_data[0:,1:3],forecasting_data[0:,0:1])))"
   ]
  },
  {
   "cell_type": "markdown",
   "id": "1ffee582",
   "metadata": {},
   "source": [
    "4.2"
   ]
  },
  {
   "cell_type": "code",
   "execution_count": 226,
   "id": "58b1d483",
   "metadata": {},
   "outputs": [
    {
     "name": "stdout",
     "output_type": "stream",
     "text": [
      "1.1464775698353833\n",
      "1.511237097395532\n",
      "1.7690473780485427\n",
      "2.2126489951006163\n",
      "2.70930323267126\n",
      "-3.6972551916455035e-07\n",
      "1.4400609458865555e-08\n",
      "1.7423360609571856e-07\n",
      "-2.3323011531304048e-07\n",
      "-1.2193893760267352e-07\n"
     ]
    },
    {
     "data": {
      "text/plain": [
       "[<matplotlib.lines.Line2D at 0x200fc0b8890>]"
      ]
     },
     "execution_count": 226,
     "metadata": {},
     "output_type": "execute_result"
    },
    {
     "data": {
      "image/png": "[encoded data removed]",
      "text/plain": [
       "<Figure size 640x480 with 1 Axes>"
      ]
     },
     "metadata": {},
     "output_type": "display_data"
    }
   ],
   "source": [
    "forecast_return = np.zeros(711)\n",
    "counter = 0\n",
    "for point in forecasting_data[0:-1,1:3]:\n",
    "    forecast_gld = Alpha+Beta[0]*point[0]+Beta[1]*point[1]\n",
    "    weight_ = 0.2+80*(forecast_gld)\n",
    "    forecast_return[counter] = (weight_*forecasting_data[counter+1][0])\n",
    "    counter += 1\n",
    "    \n",
    "cum_return = np.cumprod(1+forecast_return)\n",
    "print_vals = {1, 2, 3, 4, 5, -5, -4, -3, -2, -1}\n",
    "for val in print_vals:\n",
    "    print(cum_return[val])\n",
    "\n",
    "plt.plot(cum_return)"
   ]
  },
  {
   "cell_type": "code",
   "execution_count": 213,
   "id": "904a2892",
   "metadata": {},
   "outputs": [
    {
     "name": "stdout",
     "output_type": "stream",
     "text": [
      "Rx Mean: 0.011060810885563826\n",
      "Rx Vol: 0.094696070773347\n",
      "Rx SR: 0.11680327172219888\n",
      "RGold Mean: 0.0011202719032876376\n",
      "RGold Vol: 0.021132878802783334\n",
      "RGold SR: 0.053010851656428874\n"
     ]
    }
   ],
   "source": [
    "print(\"Rx Mean: \" + str(stats.mean(forecast_return[0:300])))\n",
    "print(\"Rx Vol: \" + str(stats.stdev(forecast_return[0:300])))\n",
    "print(\"Rx SR: \" + str(stats.mean(forecast_return[0:300]) / stats.stdev(forecast_return[0:300])))\n",
    "print(\"RGold Mean: \" + str(stats.mean(forecasting_data[0:-1,0])))\n",
    "print(\"RGold Vol: \" + str(stats.stdev(forecasting_data[0:-1,0])))\n",
    "print(\"RGold SR: \" + str(stats.mean(forecasting_data[0:-1,0]) / stats.stdev(forecasting_data[0:-1,0])))"
   ]
  },
  {
   "cell_type": "markdown",
   "id": "d93bbee3",
   "metadata": {},
   "source": [
    "3.3 - We can see that through the end of 2014 Rx has double the sharpe ratio of the RGold. Therefore, it seems like a better strategy. NOTE: I excluded points after 2014 (300) since the model appears to breakdown (the graph.) "
   ]
  },
  {
   "cell_type": "markdown",
   "id": "e830038c",
   "metadata": {},
   "source": [
    "3.4 - We would want to use just the TBill Rate and not the TBill change since the TBill Rate holds and accumulates changes over long periods of time compared to the TBill change which only changes small amounts away from 0 in either direction"
   ]
  }
 ],
 "metadata": {
  "kernelspec": {
   "display_name": "Python 3 (ipykernel)",
   "language": "python",
   "name": "python3"
  },
  "language_info": {
   "codemirror_mode": {
    "name": "ipython",
    "version": 3
   },
   "file_extension": ".py",
   "mimetype": "text/x-python",
   "name": "python",
   "nbconvert_exporter": "python",
   "pygments_lexer": "ipython3",
   "version": "3.11.4"
  }
 },
 "nbformat": 4,
 "nbformat_minor": 5
}
