{
 "cells": [
  {
   "cell_type": "markdown",
   "id": "606d0631",
   "metadata": {},
   "source": [
    "# FINM 25000 - Quantitative Portfolio Management and Algorithmic Trading\n",
    "## Homework 3 Solution | Summer 2022"
   ]
  },
  {
   "cell_type": "code",
   "execution_count": 1,
   "id": "182ec360",
   "metadata": {},
   "outputs": [],
   "source": [
    "# Start by importing the packages and datasets for this week's homework\n",
    "\n",
    "import pandas as pd\n",
    "pd.options.display.float_format = '{:.4f}'.format\n",
    "import numpy as np\n",
    "import seaborn as sns\n",
    "import matplotlib.pyplot as plt\n",
    "import statsmodels.api as sm\n",
    "from sklearn.linear_model import LinearRegression\n",
    "\n",
    "\n",
    "factors = pd.read_excel('factor_pricing_data.xlsx', 'factors (excess)').set_index(\"Date\")\n",
    "portfolios = pd.read_excel('factor_pricing_data.xlsx', 'assets (excess)').set_index(\"Date\")\n",
    "\n",
    "\n",
    "\n",
    "def performanceMetrics(returns,annualization=1, quantile=.05):\n",
    "    metrics = pd.DataFrame(index=returns.columns)\n",
    "    metrics['Mean'] = returns.mean() * annualization\n",
    "    metrics['Vol'] = returns.std() * np.sqrt(annualization)\n",
    "    metrics['Sharpe'] = (returns.mean() / returns.std()) * np.sqrt(annualization)\n",
    "\n",
    "    metrics['Min'] = returns.min()\n",
    "    metrics['Max'] = returns.max()\n",
    "    return metrics\n",
    "\n",
    "\n",
    "\n",
    "def tailMetrics(returns, quantile=.05, relative=False, mdd=True):\n",
    "    \n",
    "    #Maximum Drawdown\n",
    "    def maximumDrawdown(returns):\n",
    "        cum_returns = (1 + returns).cumprod()\n",
    "        rolling_max = cum_returns.cummax()\n",
    "        drawdown = (cum_returns - rolling_max) / rolling_max\n",
    "\n",
    "        max_drawdown = drawdown.min()\n",
    "        end_date = drawdown.idxmin()\n",
    "        summary = pd.DataFrame({'Max Drawdown': max_drawdown, 'Bottom': end_date})\n",
    "\n",
    "        for col in drawdown:\n",
    "            summary.loc[col,'Peak'] = (rolling_max.loc[:end_date[col],col]).idxmax()\n",
    "            recovery = (drawdown.loc[end_date[col]:,col])\n",
    "            try:\n",
    "                summary.loc[col,'Recover'] = pd.to_datetime(recovery[recovery >= 0].index[0])\n",
    "            except:\n",
    "                summary.loc[col,'Recover'] = pd.to_datetime(None)\n",
    "\n",
    "            summary['Peak'] = pd.to_datetime(summary['Peak'])\n",
    "            try:\n",
    "                summary['Duration (to Recover)'] = (summary['Recover'] - summary['Peak'])\n",
    "            except:\n",
    "                summary['Duration (to Recover)'] = None\n",
    "\n",
    "            summary = summary[['Max Drawdown','Peak','Bottom','Recover','Duration (to Recover)']]\n",
    "\n",
    "        return summary  \n",
    "    \n",
    "    metrics = pd.DataFrame(index=returns.columns)\n",
    "    metrics['Skewness'] = returns.skew()\n",
    "    metrics['Kurtosis'] = returns.kurtosis()\n",
    "\n",
    "    VaR = returns.quantile(quantile)\n",
    "    CVaR = (returns[returns < returns.quantile(quantile)]).mean()\n",
    "\n",
    "    if relative:\n",
    "        VaR = (VaR - returns.mean())/returns.std()\n",
    "        CVaR = (CVaR - returns.mean())/returns.std()\n",
    "\n",
    "    metrics[f'VaR ({quantile})'] = VaR\n",
    "    metrics[f'CVaR ({quantile})'] = CVaR\n",
    "\n",
    "    if mdd:\n",
    "        mdd_stats = maximumDrawdown(returns)\n",
    "        metrics = metrics.join(mdd_stats)\n",
    "\n",
    "        if relative:\n",
    "            metrics['Max Drawdown'] = (metrics['Max Drawdown'] - returns.mean())/returns.std()\n",
    "\n",
    "    return metrics\n",
    "\n",
    "\n",
    "def get_ols_metrics(regressors, targets, annualization=1, ignorenan=True):\n",
    "    # ensure regressors and targets are pandas dataframes, as expected\n",
    "    if not isinstance(regressors, pd.DataFrame):\n",
    "        regressors = regressors.to_frame()\n",
    "    if not isinstance(targets, pd.DataFrame):\n",
    "        targets = targets.to_frame()\n",
    "\n",
    "    # align the targets and regressors on the same dates\n",
    "    df_aligned = targets.join(regressors, how='inner', lsuffix='y ')\n",
    "    Y = df_aligned[targets.columns]\n",
    "    Xset = df_aligned[regressors.columns]\n",
    "\n",
    "    reg = pd.DataFrame(index=targets.columns)\n",
    "    for col in Y.columns:\n",
    "        y = Y[col]\n",
    "        \n",
    "        if ignorenan:\n",
    "            # ensure we use only non-NaN dates\n",
    "            alldata = Xset.join(y,lsuffix='X')\n",
    "            mask = alldata.notnull().all(axis=1)\n",
    "            y = y[mask]\n",
    "            X = Xset[mask]\n",
    "        else:\n",
    "            X = Xset\n",
    "\n",
    "        model = LinearRegression().fit(X, y)\n",
    "        reg.loc[col, 'alpha'] = model.intercept_ * annualization\n",
    "        reg.loc[col, regressors.columns] = model.coef_\n",
    "        reg.loc[col, 'r-squared'] = model.score(X, y)\n",
    "\n",
    "        # sklearn does not return the residuals, so we need to build them\n",
    "        yfit = model.predict(X)\n",
    "        residuals = y - yfit\n",
    "\n",
    "        # Treynor Ratio is only defined for univariate regression\n",
    "        if Xset.shape[1] == 1:\n",
    "            reg.loc[col,'Treynor Ratio'] = (y.mean() / model.coef_) * annualization\n",
    "\n",
    "        \n",
    "        # if intercept =0, numerical roundoff will nonetheless show nonzero Info Ratio\n",
    "        num_roundoff = 1e-12\n",
    "        if np.abs(model.intercept_) < num_roundoff:\n",
    "            reg.loc[col, 'Info Ratio'] = None\n",
    "        else:\n",
    "            reg.loc[col, 'Info Ratio'] = (model.intercept_ / residuals.std()) * np.sqrt(annualization)\n",
    "\n",
    "    return reg"
   ]
  },
  {
   "cell_type": "markdown",
   "id": "7a6ec55b",
   "metadata": {},
   "source": [
    "## 2. Pricing Factors and Assets"
   ]
  },
  {
   "cell_type": "markdown",
   "id": "edb1cfba",
   "metadata": {},
   "source": [
    "#### 1. The Factors. Calculate their univariate performance statistics:\n",
    "    - mean\n",
    "    - volatility\n",
    "    - Sharpe\n",
    "    - VaR(.05)\n",
    "\n",
    "Does each factor have a premium (positive expected excess return)?\n"
   ]
  },
  {
   "cell_type": "code",
   "execution_count": 2,
   "id": "f04de6e1",
   "metadata": {},
   "outputs": [
    {
     "data": {
      "text/html": [
       "<style  type=\"text/css\" >\n",
       "</style><table id=\"T_8cc96_\" ><thead>    <tr>        <th class=\"blank level0\" ></th>        <th class=\"col_heading level0 col0\" >Mean</th>        <th class=\"col_heading level0 col1\" >Vol</th>        <th class=\"col_heading level0 col2\" >Sharpe</th>        <th class=\"col_heading level0 col3\" >VaR (0.05)</th>    </tr></thead><tbody>\n",
       "                <tr>\n",
       "                        <th id=\"T_8cc96_level0_row0\" class=\"row_heading level0 row0\" >MKT</th>\n",
       "                        <td id=\"T_8cc96_row0_col0\" class=\"data row0 col0\" >8.43%</td>\n",
       "                        <td id=\"T_8cc96_row0_col1\" class=\"data row0 col1\" >15.19%</td>\n",
       "                        <td id=\"T_8cc96_row0_col2\" class=\"data row0 col2\" >0.56</td>\n",
       "                        <td id=\"T_8cc96_row0_col3\" class=\"data row0 col3\" >-7.65%</td>\n",
       "            </tr>\n",
       "            <tr>\n",
       "                        <th id=\"T_8cc96_level0_row1\" class=\"row_heading level0 row1\" >SMB</th>\n",
       "                        <td id=\"T_8cc96_row1_col0\" class=\"data row1 col0\" >1.21%</td>\n",
       "                        <td id=\"T_8cc96_row1_col1\" class=\"data row1 col1\" >10.96%</td>\n",
       "                        <td id=\"T_8cc96_row1_col2\" class=\"data row1 col2\" >0.11</td>\n",
       "                        <td id=\"T_8cc96_row1_col3\" class=\"data row1 col3\" >-4.29%</td>\n",
       "            </tr>\n",
       "            <tr>\n",
       "                        <th id=\"T_8cc96_level0_row2\" class=\"row_heading level0 row2\" >HML</th>\n",
       "                        <td id=\"T_8cc96_row2_col0\" class=\"data row2 col0\" >1.82%</td>\n",
       "                        <td id=\"T_8cc96_row2_col1\" class=\"data row2 col1\" >11.10%</td>\n",
       "                        <td id=\"T_8cc96_row2_col2\" class=\"data row2 col2\" >0.16</td>\n",
       "                        <td id=\"T_8cc96_row2_col3\" class=\"data row2 col3\" >-4.16%</td>\n",
       "            </tr>\n",
       "            <tr>\n",
       "                        <th id=\"T_8cc96_level0_row3\" class=\"row_heading level0 row3\" >UMD</th>\n",
       "                        <td id=\"T_8cc96_row3_col0\" class=\"data row3 col0\" >5.74%</td>\n",
       "                        <td id=\"T_8cc96_row3_col1\" class=\"data row3 col1\" >16.34%</td>\n",
       "                        <td id=\"T_8cc96_row3_col2\" class=\"data row3 col2\" >0.35</td>\n",
       "                        <td id=\"T_8cc96_row3_col3\" class=\"data row3 col3\" >-7.12%</td>\n",
       "            </tr>\n",
       "    </tbody></table>"
      ],
      "text/plain": [
       "<pandas.io.formats.style.Styler at 0x7fec74a5fbe0>"
      ]
     },
     "metadata": {},
     "output_type": "display_data"
    }
   ],
   "source": [
    "perform_metrics = performanceMetrics(factors, annualization=12)\n",
    "tail_metrics = tailMetrics(factors)\n",
    "rets_met = pd.concat([perform_metrics[['Mean', 'Vol', 'Sharpe']], tail_metrics[['VaR (0.05)']]], axis = 1)\n",
    "display(rets_met.style.\\\n",
    "        format(formatter = {'Mean' : '{:,.2%}', 'Vol' : '{:,.2%}', 'Sharpe' : '{:,.2f}', 'VaR (0.05)' : '{:,.2%}'}))"
   ]
  },
  {
   "cell_type": "markdown",
   "id": "b98de89b",
   "metadata": {},
   "source": [
    "Historical data shows that each factor has recieved a positive risk premium"
   ]
  },
  {
   "cell_type": "markdown",
   "id": "b791b674",
   "metadata": {},
   "source": [
    "#### 2. The factors are constructed in such a way as to reduce correlation between them. Report the correlation matrix across the three factors. Does the construction method succeed in keeping correlations small?"
   ]
  },
  {
   "cell_type": "code",
   "execution_count": 3,
   "id": "37887602",
   "metadata": {},
   "outputs": [
    {
     "data": {
      "image/png": "[encoded data removed]",
      "text/plain": [
       "<Figure size 720x576 with 2 Axes>"
      ]
     },
     "metadata": {
      "needs_background": "light"
     },
     "output_type": "display_data"
    }
   ],
   "source": [
    "corr_matrix = factors.corr()\n",
    "plt.figure(figsize=(10,8))\n",
    "sns.heatmap(corr_matrix, annot=True)\n",
    "plt.show()"
   ]
  },
  {
   "cell_type": "markdown",
   "id": "f061585d",
   "metadata": {},
   "source": [
    "Yes, factor correlations are relatively small with max correlation of around -0.3. "
   ]
  },
  {
   "cell_type": "markdown",
   "id": "80fee8a1",
   "metadata": {},
   "source": [
    "#### 3. Plot the cumulative returns of the factors."
   ]
  },
  {
   "cell_type": "code",
   "execution_count": 2,
   "id": "1e02d479",
   "metadata": {},
   "outputs": [
    {
     "ename": "NameError",
     "evalue": "name 'factors' is not defined",
     "output_type": "error",
     "traceback": [
      "\u001b[1;31m---------------------------------------------------------------------------\u001b[0m",
      "\u001b[1;31mNameError\u001b[0m                                 Traceback (most recent call last)",
      "Cell \u001b[1;32mIn[2], line 1\u001b[0m\n\u001b[1;32m----> 1\u001b[0m cum_rets \u001b[38;5;241m=\u001b[39m (\u001b[38;5;241m1\u001b[39m\u001b[38;5;241m+\u001b[39m\u001b[43mfactors\u001b[49m)\u001b[38;5;241m.\u001b[39mcumprod() \u001b[38;5;241m-\u001b[39m \u001b[38;5;241m1\u001b[39m\n\u001b[0;32m      2\u001b[0m cum_rets\u001b[38;5;241m.\u001b[39mplot(figsize \u001b[38;5;241m=\u001b[39m (\u001b[38;5;241m10\u001b[39m, \u001b[38;5;241m8\u001b[39m))\n\u001b[0;32m      3\u001b[0m plt\u001b[38;5;241m.\u001b[39mshow()\n",
      "\u001b[1;31mNameError\u001b[0m: name 'factors' is not defined"
     ]
    }
   ],
   "source": [
    "cum_rets = (1+factors).cumprod() - 1\n",
    "cum_rets.plot(figsize = (10, 8))\n",
    "plt.show()"
   ]
  },
  {
   "cell_type": "markdown",
   "id": "2ab1e6a5",
   "metadata": {},
   "source": [
    "#### 4. Test assets.\n",
    "The “assets” tab provides monthly excess return data on various industry stock-portfolios. Denote these as ri, for n = 1,...,12. Calculate the (annualized) univariate statistics from 1.1."
   ]
  },
  {
   "cell_type": "code",
   "execution_count": 5,
   "id": "6e2a0f0b",
   "metadata": {},
   "outputs": [
    {
     "data": {
      "text/html": [
       "<style  type=\"text/css\" >\n",
       "</style><table id=\"T_77863_\" ><thead>    <tr>        <th class=\"blank level0\" ></th>        <th class=\"col_heading level0 col0\" >Mean</th>        <th class=\"col_heading level0 col1\" >Vol</th>        <th class=\"col_heading level0 col2\" >Sharpe</th>        <th class=\"col_heading level0 col3\" >VaR (0.05)</th>    </tr></thead><tbody>\n",
       "                <tr>\n",
       "                        <th id=\"T_77863_level0_row0\" class=\"row_heading level0 row0\" >NoDur</th>\n",
       "                        <td id=\"T_77863_row0_col0\" class=\"data row0 col0\" >8.58%</td>\n",
       "                        <td id=\"T_77863_row0_col1\" class=\"data row0 col1\" >13.18%</td>\n",
       "                        <td id=\"T_77863_row0_col2\" class=\"data row0 col2\" >0.65</td>\n",
       "                        <td id=\"T_77863_row0_col3\" class=\"data row0 col3\" >-5.73%</td>\n",
       "            </tr>\n",
       "            <tr>\n",
       "                        <th id=\"T_77863_level0_row1\" class=\"row_heading level0 row1\" >Durbl</th>\n",
       "                        <td id=\"T_77863_row1_col0\" class=\"data row1 col0\" >10.65%</td>\n",
       "                        <td id=\"T_77863_row1_col1\" class=\"data row1 col1\" >27.02%</td>\n",
       "                        <td id=\"T_77863_row1_col2\" class=\"data row1 col2\" >0.39</td>\n",
       "                        <td id=\"T_77863_row1_col3\" class=\"data row1 col3\" >-11.21%</td>\n",
       "            </tr>\n",
       "            <tr>\n",
       "                        <th id=\"T_77863_level0_row2\" class=\"row_heading level0 row2\" >Manuf</th>\n",
       "                        <td id=\"T_77863_row2_col0\" class=\"data row2 col0\" >10.10%</td>\n",
       "                        <td id=\"T_77863_row2_col1\" class=\"data row2 col1\" >18.47%</td>\n",
       "                        <td id=\"T_77863_row2_col2\" class=\"data row2 col2\" >0.55</td>\n",
       "                        <td id=\"T_77863_row2_col3\" class=\"data row2 col3\" >-8.41%</td>\n",
       "            </tr>\n",
       "            <tr>\n",
       "                        <th id=\"T_77863_level0_row3\" class=\"row_heading level0 row3\" >Enrgy</th>\n",
       "                        <td id=\"T_77863_row3_col0\" class=\"data row3 col0\" >8.70%</td>\n",
       "                        <td id=\"T_77863_row3_col1\" class=\"data row3 col1\" >22.01%</td>\n",
       "                        <td id=\"T_77863_row3_col2\" class=\"data row3 col2\" >0.40</td>\n",
       "                        <td id=\"T_77863_row3_col3\" class=\"data row3 col3\" >-9.55%</td>\n",
       "            </tr>\n",
       "            <tr>\n",
       "                        <th id=\"T_77863_level0_row4\" class=\"row_heading level0 row4\" >Chems</th>\n",
       "                        <td id=\"T_77863_row4_col0\" class=\"data row4 col0\" >8.59%</td>\n",
       "                        <td id=\"T_77863_row4_col1\" class=\"data row4 col1\" >14.79%</td>\n",
       "                        <td id=\"T_77863_row4_col2\" class=\"data row4 col2\" >0.58</td>\n",
       "                        <td id=\"T_77863_row4_col3\" class=\"data row4 col3\" >-7.16%</td>\n",
       "            </tr>\n",
       "            <tr>\n",
       "                        <th id=\"T_77863_level0_row5\" class=\"row_heading level0 row5\" >BusEq</th>\n",
       "                        <td id=\"T_77863_row5_col0\" class=\"data row5 col0\" >12.49%</td>\n",
       "                        <td id=\"T_77863_row5_col1\" class=\"data row5 col1\" >23.53%</td>\n",
       "                        <td id=\"T_77863_row5_col2\" class=\"data row5 col2\" >0.53</td>\n",
       "                        <td id=\"T_77863_row5_col3\" class=\"data row5 col3\" >-11.11%</td>\n",
       "            </tr>\n",
       "            <tr>\n",
       "                        <th id=\"T_77863_level0_row6\" class=\"row_heading level0 row6\" >Telcm</th>\n",
       "                        <td id=\"T_77863_row6_col0\" class=\"data row6 col0\" >5.48%</td>\n",
       "                        <td id=\"T_77863_row6_col1\" class=\"data row6 col1\" >17.52%</td>\n",
       "                        <td id=\"T_77863_row6_col2\" class=\"data row6 col2\" >0.31</td>\n",
       "                        <td id=\"T_77863_row6_col3\" class=\"data row6 col3\" >-8.98%</td>\n",
       "            </tr>\n",
       "            <tr>\n",
       "                        <th id=\"T_77863_level0_row7\" class=\"row_heading level0 row7\" >Utils</th>\n",
       "                        <td id=\"T_77863_row7_col0\" class=\"data row7 col0\" >7.50%</td>\n",
       "                        <td id=\"T_77863_row7_col1\" class=\"data row7 col1\" >13.83%</td>\n",
       "                        <td id=\"T_77863_row7_col2\" class=\"data row7 col2\" >0.54</td>\n",
       "                        <td id=\"T_77863_row7_col3\" class=\"data row7 col3\" >-6.29%</td>\n",
       "            </tr>\n",
       "            <tr>\n",
       "                        <th id=\"T_77863_level0_row8\" class=\"row_heading level0 row8\" >Shops</th>\n",
       "                        <td id=\"T_77863_row8_col0\" class=\"data row8 col0\" >9.68%</td>\n",
       "                        <td id=\"T_77863_row8_col1\" class=\"data row8 col1\" >16.05%</td>\n",
       "                        <td id=\"T_77863_row8_col2\" class=\"data row8 col2\" >0.60</td>\n",
       "                        <td id=\"T_77863_row8_col3\" class=\"data row8 col3\" >-7.19%</td>\n",
       "            </tr>\n",
       "            <tr>\n",
       "                        <th id=\"T_77863_level0_row9\" class=\"row_heading level0 row9\" >Hlth</th>\n",
       "                        <td id=\"T_77863_row9_col0\" class=\"data row9 col0\" >9.70%</td>\n",
       "                        <td id=\"T_77863_row9_col1\" class=\"data row9 col1\" >15.33%</td>\n",
       "                        <td id=\"T_77863_row9_col2\" class=\"data row9 col2\" >0.63</td>\n",
       "                        <td id=\"T_77863_row9_col3\" class=\"data row9 col3\" >-7.28%</td>\n",
       "            </tr>\n",
       "            <tr>\n",
       "                        <th id=\"T_77863_level0_row10\" class=\"row_heading level0 row10\" >Money</th>\n",
       "                        <td id=\"T_77863_row10_col0\" class=\"data row10 col0\" >9.34%</td>\n",
       "                        <td id=\"T_77863_row10_col1\" class=\"data row10 col1\" >19.52%</td>\n",
       "                        <td id=\"T_77863_row10_col2\" class=\"data row10 col2\" >0.48</td>\n",
       "                        <td id=\"T_77863_row10_col3\" class=\"data row10 col3\" >-8.82%</td>\n",
       "            </tr>\n",
       "            <tr>\n",
       "                        <th id=\"T_77863_level0_row11\" class=\"row_heading level0 row11\" >Other</th>\n",
       "                        <td id=\"T_77863_row11_col0\" class=\"data row11 col0\" >5.98%</td>\n",
       "                        <td id=\"T_77863_row11_col1\" class=\"data row11 col1\" >17.15%</td>\n",
       "                        <td id=\"T_77863_row11_col2\" class=\"data row11 col2\" >0.35</td>\n",
       "                        <td id=\"T_77863_row11_col3\" class=\"data row11 col3\" >-8.17%</td>\n",
       "            </tr>\n",
       "    </tbody></table>"
      ],
      "text/plain": [
       "<pandas.io.formats.style.Styler at 0x7fec7556e730>"
      ]
     },
     "metadata": {},
     "output_type": "display_data"
    }
   ],
   "source": [
    "perform_metrics_assets = performanceMetrics(portfolios, annualization=12)\n",
    "tail_metrics_assets = tailMetrics(portfolios)\n",
    "rets_met_assets = pd.concat([perform_metrics_assets[['Mean', 'Vol', 'Sharpe']], tail_metrics_assets[['VaR (0.05)']]], axis = 1)\n",
    "display(rets_met_assets.style.\\\n",
    "        format(formatter = {'Mean' : '{:,.2%}', 'Vol' : '{:,.2%}', 'Sharpe' : '{:,.2f}', 'VaR (0.05)' : '{:,.2%}'}))"
   ]
  },
  {
   "cell_type": "markdown",
   "id": "d554855c",
   "metadata": {},
   "source": [
    "#### 5. Can the difference in mean excess returns of the portfolios be explained by differences in their volatilities? Or by their VaR(.05) statistics?"
   ]
  },
  {
   "cell_type": "code",
   "execution_count": 6,
   "id": "10aec98b",
   "metadata": {},
   "outputs": [
    {
     "data": {
      "image/png": "[encoded data removed]",
      "text/plain": [
       "<Figure size 1152x432 with 2 Axes>"
      ]
     },
     "metadata": {
      "needs_background": "light"
     },
     "output_type": "display_data"
    }
   ],
   "source": [
    "fig, ax = plt.subplots(1, 2, figsize = (16,6))\n",
    "rets_met_assets.plot.scatter('Vol', 'Mean', ax = ax[0])\n",
    "rets_met_assets.plot.scatter('VaR (0.05)', 'Mean', ax = ax[1])\n",
    "plt.show()"
   ]
  },
  {
   "cell_type": "markdown",
   "id": "9fadfa38",
   "metadata": {},
   "source": [
    "If portfolio volatilities could explain the difference in mean excess returns, an increase in the portfolio vol would mean an increase in the mean return. Clearly, from the mean-vol chart above, we do not observe this monotonic trend. Same is true when looking at mean-VaR chart (increase in VaR should decrease mean return). This shows that investors care about factors which are different than idosyncratic risk measures while pricing these assets."
   ]
  },
  {
   "cell_type": "markdown",
   "id": "d1847f76",
   "metadata": {},
   "source": [
    "## 3. CAPM"
   ]
  },
  {
   "cell_type": "markdown",
   "id": "cbf6bd78",
   "metadata": {},
   "source": [
    "#### 1. For each of the n = 12 test assets, run the CAPM time-series regression"
   ]
  },
  {
   "cell_type": "code",
   "execution_count": 7,
   "id": "abf8c8ed",
   "metadata": {},
   "outputs": [],
   "source": [
    "capm_ts = get_ols_metrics(factors['MKT'], portfolios, annualization=12, ignorenan=True)"
   ]
  },
  {
   "cell_type": "markdown",
   "id": "c0596282",
   "metadata": {},
   "source": [
    "#### 2. Report the estimated $\\beta^{i,mkt}$ Treynor Ratio, $\\alpha^i$, and Information Ratio for each of the n regressions."
   ]
  },
  {
   "cell_type": "code",
   "execution_count": 8,
   "id": "6e2d894a",
   "metadata": {},
   "outputs": [
    {
     "data": {
      "text/html": [
       "<style  type=\"text/css\" >\n",
       "</style><table id=\"T_2bcbb_\" ><thead>    <tr>        <th class=\"blank level0\" ></th>        <th class=\"col_heading level0 col0\" >alpha</th>        <th class=\"col_heading level0 col1\" >MKT</th>        <th class=\"col_heading level0 col2\" >r-squared</th>        <th class=\"col_heading level0 col3\" >Treynor Ratio</th>        <th class=\"col_heading level0 col4\" >Info Ratio</th>    </tr></thead><tbody>\n",
       "                <tr>\n",
       "                        <th id=\"T_2bcbb_level0_row0\" class=\"row_heading level0 row0\" >NoDur</th>\n",
       "                        <td id=\"T_2bcbb_row0_col0\" class=\"data row0 col0\" >3.26%</td>\n",
       "                        <td id=\"T_2bcbb_row0_col1\" class=\"data row0 col1\" >0.63</td>\n",
       "                        <td id=\"T_2bcbb_row0_col2\" class=\"data row0 col2\" >52.85%</td>\n",
       "                        <td id=\"T_2bcbb_row0_col3\" class=\"data row0 col3\" >0.14</td>\n",
       "                        <td id=\"T_2bcbb_row0_col4\" class=\"data row0 col4\" >0.36</td>\n",
       "            </tr>\n",
       "            <tr>\n",
       "                        <th id=\"T_2bcbb_level0_row1\" class=\"row_heading level0 row1\" >Durbl</th>\n",
       "                        <td id=\"T_2bcbb_row1_col0\" class=\"data row1 col0\" >-0.83%</td>\n",
       "                        <td id=\"T_2bcbb_row1_col1\" class=\"data row1 col1\" >1.36</td>\n",
       "                        <td id=\"T_2bcbb_row1_col2\" class=\"data row1 col2\" >58.50%</td>\n",
       "                        <td id=\"T_2bcbb_row1_col3\" class=\"data row1 col3\" >0.08</td>\n",
       "                        <td id=\"T_2bcbb_row1_col4\" class=\"data row1 col4\" >-0.05</td>\n",
       "            </tr>\n",
       "            <tr>\n",
       "                        <th id=\"T_2bcbb_level0_row2\" class=\"row_heading level0 row2\" >Manuf</th>\n",
       "                        <td id=\"T_2bcbb_row2_col0\" class=\"data row2 col0\" >0.80%</td>\n",
       "                        <td id=\"T_2bcbb_row2_col1\" class=\"data row2 col1\" >1.10</td>\n",
       "                        <td id=\"T_2bcbb_row2_col2\" class=\"data row2 col2\" >82.31%</td>\n",
       "                        <td id=\"T_2bcbb_row2_col3\" class=\"data row2 col3\" >0.09</td>\n",
       "                        <td id=\"T_2bcbb_row2_col4\" class=\"data row2 col4\" >0.10</td>\n",
       "            </tr>\n",
       "            <tr>\n",
       "                        <th id=\"T_2bcbb_level0_row3\" class=\"row_heading level0 row3\" >Enrgy</th>\n",
       "                        <td id=\"T_2bcbb_row3_col0\" class=\"data row3 col0\" >1.58%</td>\n",
       "                        <td id=\"T_2bcbb_row3_col1\" class=\"data row3 col1\" >0.84</td>\n",
       "                        <td id=\"T_2bcbb_row3_col2\" class=\"data row3 col2\" >33.93%</td>\n",
       "                        <td id=\"T_2bcbb_row3_col3\" class=\"data row3 col3\" >0.10</td>\n",
       "                        <td id=\"T_2bcbb_row3_col4\" class=\"data row3 col4\" >0.09</td>\n",
       "            </tr>\n",
       "            <tr>\n",
       "                        <th id=\"T_2bcbb_level0_row4\" class=\"row_heading level0 row4\" >Chems</th>\n",
       "                        <td id=\"T_2bcbb_row4_col0\" class=\"data row4 col0\" >2.13%</td>\n",
       "                        <td id=\"T_2bcbb_row4_col1\" class=\"data row4 col1\" >0.77</td>\n",
       "                        <td id=\"T_2bcbb_row4_col2\" class=\"data row4 col2\" >61.94%</td>\n",
       "                        <td id=\"T_2bcbb_row4_col3\" class=\"data row4 col3\" >0.11</td>\n",
       "                        <td id=\"T_2bcbb_row4_col4\" class=\"data row4 col4\" >0.23</td>\n",
       "            </tr>\n",
       "            <tr>\n",
       "                        <th id=\"T_2bcbb_level0_row5\" class=\"row_heading level0 row5\" >BusEq</th>\n",
       "                        <td id=\"T_2bcbb_row5_col0\" class=\"data row5 col0\" >1.23%</td>\n",
       "                        <td id=\"T_2bcbb_row5_col1\" class=\"data row5 col1\" >1.34</td>\n",
       "                        <td id=\"T_2bcbb_row5_col2\" class=\"data row5 col2\" >74.29%</td>\n",
       "                        <td id=\"T_2bcbb_row5_col3\" class=\"data row5 col3\" >0.09</td>\n",
       "                        <td id=\"T_2bcbb_row5_col4\" class=\"data row5 col4\" >0.10</td>\n",
       "            </tr>\n",
       "            <tr>\n",
       "                        <th id=\"T_2bcbb_level0_row6\" class=\"row_heading level0 row6\" >Telcm</th>\n",
       "                        <td id=\"T_2bcbb_row6_col0\" class=\"data row6 col0\" >-2.31%</td>\n",
       "                        <td id=\"T_2bcbb_row6_col1\" class=\"data row6 col1\" >0.92</td>\n",
       "                        <td id=\"T_2bcbb_row6_col2\" class=\"data row6 col2\" >64.17%</td>\n",
       "                        <td id=\"T_2bcbb_row6_col3\" class=\"data row6 col3\" >0.06</td>\n",
       "                        <td id=\"T_2bcbb_row6_col4\" class=\"data row6 col4\" >-0.22</td>\n",
       "            </tr>\n",
       "            <tr>\n",
       "                        <th id=\"T_2bcbb_level0_row7\" class=\"row_heading level0 row7\" >Utils</th>\n",
       "                        <td id=\"T_2bcbb_row7_col0\" class=\"data row7 col0\" >4.05%</td>\n",
       "                        <td id=\"T_2bcbb_row7_col1\" class=\"data row7 col1\" >0.41</td>\n",
       "                        <td id=\"T_2bcbb_row7_col2\" class=\"data row7 col2\" >20.19%</td>\n",
       "                        <td id=\"T_2bcbb_row7_col3\" class=\"data row7 col3\" >0.18</td>\n",
       "                        <td id=\"T_2bcbb_row7_col4\" class=\"data row7 col4\" >0.33</td>\n",
       "            </tr>\n",
       "            <tr>\n",
       "                        <th id=\"T_2bcbb_level0_row8\" class=\"row_heading level0 row8\" >Shops</th>\n",
       "                        <td id=\"T_2bcbb_row8_col0\" class=\"data row8 col0\" >2.13%</td>\n",
       "                        <td id=\"T_2bcbb_row8_col1\" class=\"data row8 col1\" >0.89</td>\n",
       "                        <td id=\"T_2bcbb_row8_col2\" class=\"data row8 col2\" >71.60%</td>\n",
       "                        <td id=\"T_2bcbb_row8_col3\" class=\"data row8 col3\" >0.11</td>\n",
       "                        <td id=\"T_2bcbb_row8_col4\" class=\"data row8 col4\" >0.25</td>\n",
       "            </tr>\n",
       "            <tr>\n",
       "                        <th id=\"T_2bcbb_level0_row9\" class=\"row_heading level0 row9\" >Hlth</th>\n",
       "                        <td id=\"T_2bcbb_row9_col0\" class=\"data row9 col0\" >3.62%</td>\n",
       "                        <td id=\"T_2bcbb_row9_col1\" class=\"data row9 col1\" >0.72</td>\n",
       "                        <td id=\"T_2bcbb_row9_col2\" class=\"data row9 col2\" >51.05%</td>\n",
       "                        <td id=\"T_2bcbb_row9_col3\" class=\"data row9 col3\" >0.13</td>\n",
       "                        <td id=\"T_2bcbb_row9_col4\" class=\"data row9 col4\" >0.34</td>\n",
       "            </tr>\n",
       "            <tr>\n",
       "                        <th id=\"T_2bcbb_level0_row10\" class=\"row_heading level0 row10\" >Money</th>\n",
       "                        <td id=\"T_2bcbb_row10_col0\" class=\"data row10 col0\" >0.13%</td>\n",
       "                        <td id=\"T_2bcbb_row10_col1\" class=\"data row10 col1\" >1.09</td>\n",
       "                        <td id=\"T_2bcbb_row10_col2\" class=\"data row10 col2\" >72.23%</td>\n",
       "                        <td id=\"T_2bcbb_row10_col3\" class=\"data row10 col3\" >0.09</td>\n",
       "                        <td id=\"T_2bcbb_row10_col4\" class=\"data row10 col4\" >0.01</td>\n",
       "            </tr>\n",
       "            <tr>\n",
       "                        <th id=\"T_2bcbb_level0_row11\" class=\"row_heading level0 row11\" >Other</th>\n",
       "                        <td id=\"T_2bcbb_row11_col0\" class=\"data row11 col0\" >-2.87%</td>\n",
       "                        <td id=\"T_2bcbb_row11_col1\" class=\"data row11 col1\" >1.05</td>\n",
       "                        <td id=\"T_2bcbb_row11_col2\" class=\"data row11 col2\" >86.39%</td>\n",
       "                        <td id=\"T_2bcbb_row11_col3\" class=\"data row11 col3\" >0.06</td>\n",
       "                        <td id=\"T_2bcbb_row11_col4\" class=\"data row11 col4\" >-0.45</td>\n",
       "            </tr>\n",
       "    </tbody></table>"
      ],
      "text/plain": [
       "<pandas.io.formats.style.Styler at 0x7fec480817f0>"
      ]
     },
     "metadata": {},
     "output_type": "display_data"
    }
   ],
   "source": [
    "display(capm_ts.style.format(formatter = {'alpha' : '{:,.2%}', 'MKT' : '{:,.2f}', 'r-squared' : '{:,.2%}',\\\n",
    "                             'Treynor Ratio' : '{:,.2f}', 'Info Ratio' : '{:,.2f}'}))"
   ]
  },
  {
   "cell_type": "markdown",
   "id": "38cd5bd3",
   "metadata": {},
   "source": [
    "#### 3. If (CAPM) were true, what would be true of the Treynor Ratios, alphas, and Information Ratios?"
   ]
  },
  {
   "cell_type": "markdown",
   "id": "0122592d",
   "metadata": {},
   "source": [
    "If CAPM were true, the following would hold as well:\n",
    "\n",
    "1. Treynor Ratio for all assets would the same, and equal to the market premium\n",
    "2. Alpha should be zero\n",
    "3. Information Ratio should be zero"
   ]
  },
  {
   "cell_type": "markdown",
   "id": "5397ba7c",
   "metadata": {},
   "source": [
    "#### 4. Calculate the mean absolute error of the estimated alphas. If the pricing model worked, should these alpha estimates be large or small? Why? Based on your MAE stat, does this seem to support the pricing model or not?"
   ]
  },
  {
   "cell_type": "code",
   "execution_count": 9,
   "id": "d6fdee1b",
   "metadata": {},
   "outputs": [
    {
     "name": "stdout",
     "output_type": "stream",
     "text": [
      "Mean-Absolute-Error from CAPM: 2.08%\n"
     ]
    }
   ],
   "source": [
    "print('Mean-Absolute-Error from CAPM: {:,.2%}'.format(capm_ts.alpha.abs().mean()))"
   ]
  },
  {
   "cell_type": "markdown",
   "id": "ff095b20",
   "metadata": {},
   "source": [
    "If CAPM was true, alpha estimates would be relatively small compared to the mean returns. As per CAPM, there should be no excess return compared to the market. However, given the large MAE stat, this is not supported in the data."
   ]
  },
  {
   "cell_type": "markdown",
   "id": "c97e9bc5",
   "metadata": {},
   "source": [
    "## 4. A multifactor model"
   ]
  },
  {
   "cell_type": "markdown",
   "id": "83be890b",
   "metadata": {},
   "source": [
    "#### 1. For each regression, report the estimated α and r-squared."
   ]
  },
  {
   "cell_type": "code",
   "execution_count": 10,
   "id": "ca00738f",
   "metadata": {},
   "outputs": [
    {
     "data": {
      "text/html": [
       "<style  type=\"text/css\" >\n",
       "</style><table id=\"T_0cb48_\" ><thead>    <tr>        <th class=\"blank level0\" ></th>        <th class=\"col_heading level0 col0\" >alpha</th>        <th class=\"col_heading level0 col1\" >MKT</th>        <th class=\"col_heading level0 col2\" >SMB</th>        <th class=\"col_heading level0 col3\" >HML</th>        <th class=\"col_heading level0 col4\" >UMD</th>        <th class=\"col_heading level0 col5\" >r-squared</th>        <th class=\"col_heading level0 col6\" >Info Ratio</th>    </tr></thead><tbody>\n",
       "                <tr>\n",
       "                        <th id=\"T_0cb48_level0_row0\" class=\"row_heading level0 row0\" >NoDur</th>\n",
       "                        <td id=\"T_0cb48_row0_col0\" class=\"data row0 col0\" >2.58%</td>\n",
       "                        <td id=\"T_0cb48_row0_col1\" class=\"data row0 col1\" >0.69</td>\n",
       "                        <td id=\"T_0cb48_row0_col2\" class=\"data row0 col2\" >-0.22</td>\n",
       "                        <td id=\"T_0cb48_row0_col3\" class=\"data row0 col3\" >0.18</td>\n",
       "                        <td id=\"T_0cb48_row0_col4\" class=\"data row0 col4\" >0.02</td>\n",
       "                        <td id=\"T_0cb48_row0_col5\" class=\"data row0 col5\" >59.28%</td>\n",
       "                        <td id=\"T_0cb48_row0_col6\" class=\"data row0 col6\" >0.31</td>\n",
       "            </tr>\n",
       "            <tr>\n",
       "                        <th id=\"T_0cb48_level0_row1\" class=\"row_heading level0 row1\" >Durbl</th>\n",
       "                        <td id=\"T_0cb48_row1_col0\" class=\"data row1 col0\" >0.29%</td>\n",
       "                        <td id=\"T_0cb48_row1_col1\" class=\"data row1 col1\" >1.28</td>\n",
       "                        <td id=\"T_0cb48_row1_col2\" class=\"data row1 col2\" >0.23</td>\n",
       "                        <td id=\"T_0cb48_row1_col3\" class=\"data row1 col3\" >0.39</td>\n",
       "                        <td id=\"T_0cb48_row1_col4\" class=\"data row1 col4\" >-0.25</td>\n",
       "                        <td id=\"T_0cb48_row1_col5\" class=\"data row1 col5\" >64.51%</td>\n",
       "                        <td id=\"T_0cb48_row1_col6\" class=\"data row1 col6\" >0.02</td>\n",
       "            </tr>\n",
       "            <tr>\n",
       "                        <th id=\"T_0cb48_level0_row2\" class=\"row_heading level0 row2\" >Manuf</th>\n",
       "                        <td id=\"T_0cb48_row2_col0\" class=\"data row2 col0\" >0.72%</td>\n",
       "                        <td id=\"T_0cb48_row2_col1\" class=\"data row2 col1\" >1.09</td>\n",
       "                        <td id=\"T_0cb48_row2_col2\" class=\"data row2 col2\" >0.10</td>\n",
       "                        <td id=\"T_0cb48_row2_col3\" class=\"data row2 col3\" >0.27</td>\n",
       "                        <td id=\"T_0cb48_row2_col4\" class=\"data row2 col4\" >-0.07</td>\n",
       "                        <td id=\"T_0cb48_row2_col5\" class=\"data row2 col5\" >85.69%</td>\n",
       "                        <td id=\"T_0cb48_row2_col6\" class=\"data row2 col6\" >0.10</td>\n",
       "            </tr>\n",
       "            <tr>\n",
       "                        <th id=\"T_0cb48_level0_row3\" class=\"row_heading level0 row3\" >Enrgy</th>\n",
       "                        <td id=\"T_0cb48_row3_col0\" class=\"data row3 col0\" >-0.25%</td>\n",
       "                        <td id=\"T_0cb48_row3_col1\" class=\"data row3 col1\" >0.89</td>\n",
       "                        <td id=\"T_0cb48_row3_col2\" class=\"data row3 col2\" >0.10</td>\n",
       "                        <td id=\"T_0cb48_row3_col3\" class=\"data row3 col3\" >0.66</td>\n",
       "                        <td id=\"T_0cb48_row3_col4\" class=\"data row3 col4\" >0.01</td>\n",
       "                        <td id=\"T_0cb48_row3_col5\" class=\"data row3 col5\" >44.40%</td>\n",
       "                        <td id=\"T_0cb48_row3_col6\" class=\"data row3 col6\" >-0.01</td>\n",
       "            </tr>\n",
       "            <tr>\n",
       "                        <th id=\"T_0cb48_level0_row4\" class=\"row_heading level0 row4\" >Chems</th>\n",
       "                        <td id=\"T_0cb48_row4_col0\" class=\"data row4 col0\" >1.62%</td>\n",
       "                        <td id=\"T_0cb48_row4_col1\" class=\"data row4 col1\" >0.81</td>\n",
       "                        <td id=\"T_0cb48_row4_col2\" class=\"data row4 col2\" >-0.17</td>\n",
       "                        <td id=\"T_0cb48_row4_col3\" class=\"data row4 col3\" >0.21</td>\n",
       "                        <td id=\"T_0cb48_row4_col4\" class=\"data row4 col4\" >-0.01</td>\n",
       "                        <td id=\"T_0cb48_row4_col5\" class=\"data row4 col5\" >66.83%</td>\n",
       "                        <td id=\"T_0cb48_row4_col6\" class=\"data row4 col6\" >0.19</td>\n",
       "            </tr>\n",
       "            <tr>\n",
       "                        <th id=\"T_0cb48_level0_row5\" class=\"row_heading level0 row5\" >BusEq</th>\n",
       "                        <td id=\"T_0cb48_row5_col0\" class=\"data row5 col0\" >3.92%</td>\n",
       "                        <td id=\"T_0cb48_row5_col1\" class=\"data row5 col1\" >1.21</td>\n",
       "                        <td id=\"T_0cb48_row5_col2\" class=\"data row5 col2\" >0.18</td>\n",
       "                        <td id=\"T_0cb48_row5_col3\" class=\"data row5 col3\" >-0.64</td>\n",
       "                        <td id=\"T_0cb48_row5_col4\" class=\"data row5 col4\" >-0.11</td>\n",
       "                        <td id=\"T_0cb48_row5_col5\" class=\"data row5 col5\" >84.19%</td>\n",
       "                        <td id=\"T_0cb48_row5_col6\" class=\"data row5 col6\" >0.42</td>\n",
       "            </tr>\n",
       "            <tr>\n",
       "                        <th id=\"T_0cb48_level0_row6\" class=\"row_heading level0 row6\" >Telcm</th>\n",
       "                        <td id=\"T_0cb48_row6_col0\" class=\"data row6 col0\" >-1.79%</td>\n",
       "                        <td id=\"T_0cb48_row6_col1\" class=\"data row6 col1\" >0.93</td>\n",
       "                        <td id=\"T_0cb48_row6_col2\" class=\"data row6 col2\" >-0.17</td>\n",
       "                        <td id=\"T_0cb48_row6_col3\" class=\"data row6 col3\" >-0.04</td>\n",
       "                        <td id=\"T_0cb48_row6_col4\" class=\"data row6 col4\" >-0.06</td>\n",
       "                        <td id=\"T_0cb48_row6_col5\" class=\"data row6 col5\" >65.45%</td>\n",
       "                        <td id=\"T_0cb48_row6_col6\" class=\"data row6 col6\" >-0.17</td>\n",
       "            </tr>\n",
       "            <tr>\n",
       "                        <th id=\"T_0cb48_level0_row7\" class=\"row_heading level0 row7\" >Utils</th>\n",
       "                        <td id=\"T_0cb48_row7_col0\" class=\"data row7 col0\" >2.19%</td>\n",
       "                        <td id=\"T_0cb48_row7_col1\" class=\"data row7 col1\" >0.51</td>\n",
       "                        <td id=\"T_0cb48_row7_col2\" class=\"data row7 col2\" >-0.22</td>\n",
       "                        <td id=\"T_0cb48_row7_col3\" class=\"data row7 col3\" >0.31</td>\n",
       "                        <td id=\"T_0cb48_row7_col4\" class=\"data row7 col4\" >0.12</td>\n",
       "                        <td id=\"T_0cb48_row7_col5\" class=\"data row7 col5\" >30.39%</td>\n",
       "                        <td id=\"T_0cb48_row7_col6\" class=\"data row7 col6\" >0.19</td>\n",
       "            </tr>\n",
       "            <tr>\n",
       "                        <th id=\"T_0cb48_level0_row8\" class=\"row_heading level0 row8\" >Shops</th>\n",
       "                        <td id=\"T_0cb48_row8_col0\" class=\"data row8 col0\" >2.27%</td>\n",
       "                        <td id=\"T_0cb48_row8_col1\" class=\"data row8 col1\" >0.89</td>\n",
       "                        <td id=\"T_0cb48_row8_col2\" class=\"data row8 col2\" >-0.03</td>\n",
       "                        <td id=\"T_0cb48_row8_col3\" class=\"data row8 col3\" >-0.01</td>\n",
       "                        <td id=\"T_0cb48_row8_col4\" class=\"data row8 col4\" >-0.02</td>\n",
       "                        <td id=\"T_0cb48_row8_col5\" class=\"data row8 col5\" >71.67%</td>\n",
       "                        <td id=\"T_0cb48_row8_col6\" class=\"data row8 col6\" >0.27</td>\n",
       "            </tr>\n",
       "            <tr>\n",
       "                        <th id=\"T_0cb48_level0_row9\" class=\"row_heading level0 row9\" >Hlth</th>\n",
       "                        <td id=\"T_0cb48_row9_col0\" class=\"data row9 col0\" >3.42%</td>\n",
       "                        <td id=\"T_0cb48_row9_col1\" class=\"data row9 col1\" >0.76</td>\n",
       "                        <td id=\"T_0cb48_row9_col2\" class=\"data row9 col2\" >-0.20</td>\n",
       "                        <td id=\"T_0cb48_row9_col3\" class=\"data row9 col3\" >-0.15</td>\n",
       "                        <td id=\"T_0cb48_row9_col4\" class=\"data row9 col4\" >0.07</td>\n",
       "                        <td id=\"T_0cb48_row9_col5\" class=\"data row9 col5\" >54.22%</td>\n",
       "                        <td id=\"T_0cb48_row9_col6\" class=\"data row9 col6\" >0.33</td>\n",
       "            </tr>\n",
       "            <tr>\n",
       "                        <th id=\"T_0cb48_level0_row10\" class=\"row_heading level0 row10\" >Money</th>\n",
       "                        <td id=\"T_0cb48_row10_col0\" class=\"data row10 col0\" >-0.99%</td>\n",
       "                        <td id=\"T_0cb48_row10_col1\" class=\"data row10 col1\" >1.16</td>\n",
       "                        <td id=\"T_0cb48_row10_col2\" class=\"data row10 col2\" >-0.13</td>\n",
       "                        <td id=\"T_0cb48_row10_col3\" class=\"data row10 col3\" >0.60</td>\n",
       "                        <td id=\"T_0cb48_row10_col4\" class=\"data row10 col4\" >-0.06</td>\n",
       "                        <td id=\"T_0cb48_row10_col5\" class=\"data row10 col5\" >86.37%</td>\n",
       "                        <td id=\"T_0cb48_row10_col6\" class=\"data row10 col6\" >-0.14</td>\n",
       "            </tr>\n",
       "            <tr>\n",
       "                        <th id=\"T_0cb48_level0_row11\" class=\"row_heading level0 row11\" >Other</th>\n",
       "                        <td id=\"T_0cb48_row11_col0\" class=\"data row11 col0\" >-3.00%</td>\n",
       "                        <td id=\"T_0cb48_row11_col1\" class=\"data row11 col1\" >1.04</td>\n",
       "                        <td id=\"T_0cb48_row11_col2\" class=\"data row11 col2\" >0.12</td>\n",
       "                        <td id=\"T_0cb48_row11_col3\" class=\"data row11 col3\" >0.21</td>\n",
       "                        <td id=\"T_0cb48_row11_col4\" class=\"data row11 col4\" >-0.05</td>\n",
       "                        <td id=\"T_0cb48_row11_col5\" class=\"data row11 col5\" >88.73%</td>\n",
       "                        <td id=\"T_0cb48_row11_col6\" class=\"data row11 col6\" >-0.52</td>\n",
       "            </tr>\n",
       "    </tbody></table>"
      ],
      "text/plain": [
       "<pandas.io.formats.style.Styler at 0x7fec75360760>"
      ]
     },
     "metadata": {},
     "output_type": "display_data"
    }
   ],
   "source": [
    "mfm_ts = get_ols_metrics(factors, portfolios, annualization=12, ignorenan=True)\n",
    "display(mfm_ts.style.format(formatter = {'alpha' : '{:,.2%}', 'r-squared' : '{:,.2%}','MKT' : '{:,.2f}',\\\n",
    "                                         'SMB' : '{:,.2f}', 'HML' : '{:,.2f}', 'UMD' : '{:,.2f}', 'Info Ratio' : '{:,.2f}'}))"
   ]
  },
  {
   "cell_type": "markdown",
   "id": "981637eb",
   "metadata": {},
   "source": [
    "#### 2. Calculate the mean absolute error of the estimated alphas. If the pricing model worked, should these alpha estimates be large or small? Why? Based on your MAE stat, does this seem to support the pricing model or not?"
   ]
  },
  {
   "cell_type": "code",
   "execution_count": 11,
   "id": "76e71108",
   "metadata": {},
   "outputs": [
    {
     "name": "stdout",
     "output_type": "stream",
     "text": [
      "Mean-Absolute-Error: 1.92%\n"
     ]
    }
   ],
   "source": [
    "print('Mean-Absolute-Error: {:,.2%}'.format(mfm_ts.alpha.abs().mean()))"
   ]
  },
  {
   "cell_type": "markdown",
   "id": "a7a034f3",
   "metadata": {},
   "source": [
    "Again, If the pricing model was accurate, alpha estimates would be relatively small, even close to zero. However, given the large MAE stat, this is not supported in the data."
   ]
  }
 ],
 "metadata": {
  "kernelspec": {
   "display_name": "Python 3 (ipykernel)",
   "language": "python",
   "name": "python3"
  },
  "language_info": {
   "codemirror_mode": {
    "name": "ipython",
    "version": 3
   },
   "file_extension": ".py",
   "mimetype": "text/x-python",
   "name": "python",
   "nbconvert_exporter": "python",
   "pygments_lexer": "ipython3",
   "version": "3.11.4"
  }
 },
 "nbformat": 4,
 "nbformat_minor": 5
}
